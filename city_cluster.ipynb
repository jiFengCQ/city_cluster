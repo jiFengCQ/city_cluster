{
 "cells": [
  {
   "cell_type": "code",
   "execution_count": 2,
   "metadata": {
    "collapsed": true,
    "pycharm": {
     "is_executing": false
    }
   },
   "outputs": [],
   "source": [
    "# begin: 2020年2月7日15:47:12\n",
    "\n",
    "import numpy as np\n",
    "import pandas as pd\n",
    "import matplotlib.pyplot as plt\n",
    "import seaborn as sns"
   ]
  },
  {
   "cell_type": "code",
   "execution_count": 6,
   "outputs": [
    {
     "name": "stdout",
     "text": [
      "   住处  兄弟  姓名     宠物\n",
      "0  天朝  李四  张三  koala\n",
      "1  天朝  张三  李四    cat\n"
     ],
     "output_type": "stream"
    }
   ],
   "source": [
    "# # json test\n",
    "# obj=\"\"\"[{\"姓名\": \"张三\",\n",
    "#  \"住处\": \"天朝\",\n",
    "#  \"宠物\": \"koala\",\n",
    "#  \"兄弟\": \"李四\"\n",
    "# },{\"姓名\": \"李四\",\n",
    "#  \"住处\": \"天朝\",\n",
    "#  \"宠物\": \"cat\",\n",
    "#  \"兄弟\": \"张三\"}]\"\"\"\n",
    "# with open(\"test.json\",\"w\",encoding=\"utf-8\") as f:\n",
    "#     f.write(obj)\n",
    "# \n",
    "# df = pd.read_json(\"test.json\",encoding=\"utf-8\", orient='records')\n",
    "# print(df)"
   ],
   "metadata": {
    "collapsed": false,
    "pycharm": {
     "name": "#%%\n",
     "is_executing": false
    }
   }
  },
  {
   "cell_type": "code",
   "execution_count": 9,
   "outputs": [
    {
     "name": "stdout",
     "text": [
      "                                                results  success\n",
      "0     {'provinceName': '福建省', 'provinceShortName': '...     True\n",
      "1     {'provinceName': '山西省', 'provinceShortName': '...     True\n",
      "2     {'provinceName': '青海省', 'provinceShortName': '...     True\n",
      "3     {'provinceName': '天津市', 'provinceShortName': '...     True\n",
      "4     {'provinceName': '天津市', 'provinceShortName': '...     True\n",
      "5     {'provinceName': '内蒙古自治区', 'provinceShortName'...     True\n",
      "6     {'provinceName': '青海省', 'provinceShortName': '...     True\n",
      "7     {'provinceName': '青海省', 'provinceShortName': '...     True\n",
      "8     {'provinceName': '陕西省', 'provinceShortName': '...     True\n",
      "9     {'provinceName': '海南省', 'provinceShortName': '...     True\n",
      "10    {'provinceName': '宁夏回族自治区', 'provinceShortName...     True\n",
      "11    {'provinceName': '黑龙江省', 'provinceShortName': ...     True\n",
      "12    {'provinceName': '江西省', 'provinceShortName': '...     True\n",
      "13    {'provinceName': '广东省', 'provinceShortName': '...     True\n",
      "14    {'provinceName': '湖南省', 'provinceShortName': '...     True\n",
      "15    {'provinceName': '浙江省', 'provinceShortName': '...     True\n",
      "16    {'provinceName': '湖北省', 'provinceShortName': '...     True\n",
      "17    {'provinceName': '河南省', 'provinceShortName': '...     True\n",
      "18    {'provinceName': '安徽省', 'provinceShortName': '...     True\n",
      "19    {'provinceName': '重庆市', 'provinceShortName': '...     True\n",
      "20    {'provinceName': '江苏省', 'provinceShortName': '...     True\n",
      "21    {'provinceName': '四川省', 'provinceShortName': '...     True\n",
      "22    {'provinceName': '山东省', 'provinceShortName': '...     True\n",
      "23    {'provinceName': '上海市', 'provinceShortName': '...     True\n",
      "24    {'provinceName': '广西壮族自治区', 'provinceShortName...     True\n",
      "25    {'provinceName': '河北省', 'provinceShortName': '...     True\n",
      "26    {'provinceName': '海南省', 'provinceShortName': '...     True\n",
      "27    {'provinceName': '山西省', 'provinceShortName': '...     True\n",
      "28    {'provinceName': '甘肃省', 'provinceShortName': '...     True\n",
      "29    {'provinceName': '天津市', 'provinceShortName': '...     True\n",
      "...                                                 ...      ...\n",
      "1485  {'createTime': 1579542231000, 'modifyTime': 15...     True\n",
      "1486  {'createTime': 1579598038000, 'modifyTime': 15...     True\n",
      "1487  {'createTime': 1579656427000, 'modifyTime': 15...     True\n",
      "1488  {'createTime': 1579598038000, 'modifyTime': 15...     True\n",
      "1489  {'createTime': 1579542193000, 'modifyTime': 15...     True\n",
      "1490  {'createTime': 1579598380000, 'modifyTime': 15...     True\n",
      "1491  {'createTime': 1579598380000, 'modifyTime': 15...     True\n",
      "1492  {'createTime': 1579538652000, 'modifyTime': 15...     True\n",
      "1493  {'createTime': 1579542158000, 'modifyTime': 15...     True\n",
      "1494  {'createTime': 1579542174000, 'modifyTime': 15...     True\n",
      "1495  {'createTime': 1579542231000, 'modifyTime': 15...     True\n",
      "1496  {'createTime': 1579546399000, 'modifyTime': 15...     True\n",
      "1497  {'createTime': 1579542213000, 'modifyTime': 15...     True\n",
      "1498  {'createTime': 1579542193000, 'modifyTime': 15...     True\n",
      "1499  {'createTime': 1579542291000, 'modifyTime': 15...     True\n",
      "1500  {'createTime': 1579542254000, 'modifyTime': 15...     True\n",
      "1501  {'createTime': 1579588572000, 'modifyTime': 15...     True\n",
      "1502  {'createTime': 1579598038000, 'modifyTime': 15...     True\n",
      "1503  {'createTime': 1579598057000, 'modifyTime': 15...     True\n",
      "1504  {'createTime': 1579598101000, 'modifyTime': 15...     True\n",
      "1505  {'createTime': 1579598339000, 'modifyTime': 15...     True\n",
      "1506  {'createTime': 1579598380000, 'modifyTime': 15...     True\n",
      "1507  {'createTime': 1579604600000, 'modifyTime': 15...     True\n",
      "1508  {'createTime': 1579607817000, 'modifyTime': 15...     True\n",
      "1509  {'createTime': 1579612635000, 'modifyTime': 15...     True\n",
      "1510  {'createTime': 1579625822000, 'modifyTime': 15...     True\n",
      "1511  {'createTime': 1579617167000, 'modifyTime': 15...     True\n",
      "1512  {'createTime': 1579617215000, 'modifyTime': 15...     True\n",
      "1513  {'createTime': 1579621178000, 'modifyTime': 15...     True\n",
      "1514  {'createTime': 1579623404000, 'modifyTime': 15...     True\n",
      "\n",
      "[1515 rows x 2 columns]\n"
     ],
     "output_type": "stream"
    }
   ],
   "source": [
    "df = pd.read_json(\"data/history.json\",encoding=\"utf-8\", orient='records')\n",
    "print(df)"
   ],
   "metadata": {
    "collapsed": false,
    "pycharm": {
     "name": "#%%\n",
     "is_executing": false
    }
   }
  },
  {
   "cell_type": "code",
   "execution_count": 10,
   "outputs": [
    {
     "traceback": [
      "\u001b[1;31m---------------------------------------------------------------------------\u001b[0m",
      "\u001b[1;31mTypeError\u001b[0m                                 Traceback (most recent call last)",
      "\u001b[1;32m<ipython-input-10-e0994e0ef0ca>\u001b[0m in \u001b[0;36m<module>\u001b[1;34m()\u001b[0m\n\u001b[0;32m      1\u001b[0m \u001b[1;33m\u001b[0m\u001b[0m\n\u001b[1;32m----> 2\u001b[1;33m \u001b[0mdf\u001b[0m\u001b[1;33m.\u001b[0m\u001b[0mcolumns\u001b[0m\u001b[1;33m(\u001b[0m\u001b[1;34m\"cities\"\u001b[0m\u001b[1;33m)\u001b[0m\u001b[1;33m\u001b[0m\u001b[0m\n\u001b[0m",
      "\u001b[1;31mTypeError\u001b[0m: 'Index' object is not callable"
     ],
     "ename": "TypeError",
     "evalue": "'Index' object is not callable",
     "output_type": "error"
    }
   ],
   "source": [
    "df.columns(\"cities\")"
   ],
   "metadata": {
    "collapsed": false,
    "pycharm": {
     "name": "#%%\n",
     "is_executing": false
    }
   }
  },
  {
   "cell_type": "code",
   "execution_count": null,
   "outputs": [],
   "source": [
    "\n"
   ],
   "metadata": {
    "collapsed": false,
    "pycharm": {
     "name": "#%%\n"
    }
   }
  }
 ],
 "metadata": {
  "kernelspec": {
   "display_name": "Python 3",
   "language": "python",
   "name": "python3"
  },
  "language_info": {
   "codemirror_mode": {
    "name": "ipython",
    "version": 2
   },
   "file_extension": ".py",
   "mimetype": "text/x-python",
   "name": "python",
   "nbconvert_exporter": "python",
   "pygments_lexer": "ipython2",
   "version": "2.7.6"
  },
  "pycharm": {
   "stem_cell": {
    "cell_type": "raw",
    "source": [],
    "metadata": {
     "collapsed": false
    }
   }
  }
 },
 "nbformat": 4,
 "nbformat_minor": 0
}